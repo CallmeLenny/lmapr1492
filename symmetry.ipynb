{
 "cells": [
  {
   "cell_type": "code",
   "execution_count": 1,
   "id": "29529e8a",
   "metadata": {},
   "outputs": [],
   "source": [
    "import numpy as np\n",
    "from mp_api.client import MPRester\n",
    "from pymatgen.core.operations import SymmOp\n",
    "from pymatgen.symmetry.analyzer import SpacegroupAnalyzer\n",
    "from pymatgen.electronic_structure.plotter import BSPlotter\n",
    "from pymatgen.phonon.plotter import PhononBSPlotter\n",
    "from jupyter_jsmol.pymatgen import quick_view\n",
    "from lmapr1492 import plot_brillouin_zone, get_plot_bs, get_plot_dos, get_plot_bs_and_dos, get_branch_wavevectors\n",
    "from plotly.subplots import make_subplots\n",
    "import plotly.graph_objects as go\n",
    "from jupyter_jsmol import JsmolView\n",
    "from ipywidgets import Layout, widgets, interact\n",
    "from IPython.display import display"
   ]
  },
  {
   "cell_type": "code",
   "execution_count": 2,
   "id": "10cf25bc",
   "metadata": {},
   "outputs": [],
   "source": [
    "mp_key = \"0DGGEC1I1pS8KvdIsdLZpSI8D4eSE7ux\"\n",
    "mp_id = \"mp-648\""
   ]
  },
  {
   "cell_type": "code",
   "execution_count": 3,
   "id": "c3b08ad6",
   "metadata": {},
   "outputs": [
    {
     "data": {
      "application/vnd.jupyter.widget-view+json": {
       "model_id": "ae1ca6181ba7407ba256ba9b83af2561",
       "version_major": 2,
       "version_minor": 0
      },
      "text/plain": [
       "Retrieving MaterialsDoc documents:   0%|          | 0/1 [00:00<?, ?it/s]"
      ]
     },
     "metadata": {},
     "output_type": "display_data"
    }
   ],
   "source": [
    "with MPRester(mp_key) as m:\n",
    "    prim_struc = m.get_structure_by_material_id(mp_id) \n",
    "\n",
    "conv_struc = SpacegroupAnalyzer(prim_struc).get_conventional_standard_structure() \n",
    "symmops = SpacegroupAnalyzer(conv_struc).get_space_group_operations() \n",
    "\n"
   ]
  },
  {
   "cell_type": "code",
   "execution_count": 4,
   "id": "2f634496",
   "metadata": {},
   "outputs": [
    {
     "name": "stdout",
     "output_type": "stream",
     "text": [
      "visualisation du Na2S :\n"
     ]
    },
    {
     "data": {
      "application/vnd.jupyter.widget-view+json": {
       "model_id": "6e392ab53fe74cdc8d2c0e647624dc75",
       "version_major": 2,
       "version_minor": 0
      },
      "text/plain": [
       "JsmolView(layout=Layout(align_self='stretch', height='400px'))"
      ]
     },
     "metadata": {},
     "output_type": "display_data"
    }
   ],
   "source": [
    "\n",
    "\n",
    "print(\"visualisation du Na2S :\")\n",
    "\n",
    "view = quick_view(conv_struc, \"packed\", conventional = True)\n",
    "display(view)\n",
    "view.script('rotate on')\n",
    "\n"
   ]
  },
  {
   "cell_type": "code",
   "execution_count": 9,
   "id": "19902097",
   "metadata": {
    "scrolled": true
   },
   "outputs": [
    {
     "name": "stdout",
     "output_type": "stream",
     "text": [
      "----- Symmétrie 1 : Atome de Na (index 7) ----- \n",
      "\n",
      "Rot:\n",
      "[[ 0. -1.  0.]\n",
      " [ 1.  0.  0.]\n",
      " [ 0.  0.  1.]]\n",
      "tau\n",
      "[0. 0. 0.]\n",
      "Les coordonnées initial de l'atome sont\n",
      "[0.75 0.75 0.25] \n",
      "\n",
      "Apres l'opération de symmétrie, ces coordonnées sont\n",
      "[-0.75  0.75  0.25] \n",
      "\n",
      "La matrice de rotation est une matrice de rotation tridimensionnelle qui effectue une rotation de 90 degrés autour de l'axe c. Elle représente donc une symmétrie de rotation d'ordre 4 (C4).\n"
     ]
    },
    {
     "data": {
      "application/vnd.jupyter.widget-view+json": {
       "model_id": "0514a9b0c6414d26b68990ea3b709c36",
       "version_major": 2,
       "version_minor": 0
      },
      "text/plain": [
       "JsmolView(layout=Layout(align_self='stretch', height='400px'))"
      ]
     },
     "metadata": {},
     "output_type": "display_data"
    }
   ],
   "source": [
    "# Symmetrie 1\n",
    "\n",
    "i_atom1 = 7\n",
    "i_symmop1 = 2\n",
    "\n",
    "print(\"----- Symmétrie 1 : Atome de Na (index 7) ----- \\n\")\n",
    "\n",
    "symmop1 = symmops[i_symmop1]\n",
    "print(symmop1)\n",
    "\n",
    "print(\"Les coordonnées initial de l'atome sont\")\n",
    "pos_init = conv_struc.sites[i_atom1 -1].frac_coords\n",
    "print(pos_init,\"\\n\")\n",
    "\n",
    "print(\"Apres l'opération de symmétrie, ces coordonnées sont\")\n",
    "pos_final = symmop1.operate(pos_init)\n",
    "print(pos_final,\"\\n\")\n",
    "\n",
    "\n",
    "print(\"La matrice de rotation est une matrice de rotation tridimensionnelle qui effectue une rotation de 90 degrés autour de l'axe c. Elle représente donc une symmétrie de rotation d'ordre 4 (C4).\")\n",
    "\n",
    "\n",
    "\n",
    "view1 = quick_view(conv_struc, \"packed\", conventional = True)\n",
    "display(view1)\n",
    "\n",
    "\n",
    "view1.script('draw SYMOP ' + str(i_symmop1 + 1) + ' {atomno = ' + str(i_atom1) + '}')\n"
   ]
  },
  {
   "cell_type": "code",
   "execution_count": null,
   "id": "56e3709c",
   "metadata": {},
   "outputs": [],
   "source": []
  },
  {
   "cell_type": "code",
   "execution_count": 19,
   "id": "8b90ce96",
   "metadata": {
    "scrolled": true
   },
   "outputs": [
    {
     "name": "stdout",
     "output_type": "stream",
     "text": [
      "----- Symmétrie 2 : Atome de Na d'index 3 ----- \n",
      "\n",
      "Rot:\n",
      "[[ 0. -1.  0.]\n",
      " [ 1.  0.  0.]\n",
      " [ 0.  0. -1.]]\n",
      "tau\n",
      "[0. 0. 0.]\n",
      "Les coordonnées initial de l'atome sont\n",
      "[0.25 0.75 0.75] \n",
      "\n",
      "Apres l'opération de symmétrie, ces coordonnées sont\n",
      "[-0.75  0.25 -0.75] \n",
      "\n",
      "Pour cette deuxième opération de symmétrie, on observe une rotation hélicoïdale de rotation pi et de translation 1. La notation d'un telle symmétrie est un 2 avec comme indice 1 : 2_1.\n"
     ]
    },
    {
     "data": {
      "application/vnd.jupyter.widget-view+json": {
       "model_id": "b2b0cf098d4c4e94a54c4f8bf5a280f3",
       "version_major": 2,
       "version_minor": 0
      },
      "text/plain": [
       "JsmolView(layout=Layout(align_self='stretch', height='400px'))"
      ]
     },
     "metadata": {},
     "output_type": "display_data"
    }
   ],
   "source": [
    "# Symmetrie 2\n",
    "\n",
    "i_atom2 = 3\n",
    "i_symmop2 = 8\n",
    "\n",
    "print(\"----- Symmétrie 2 : Atome de Na (index 3) ----- \\n\")\n",
    "\n",
    "symmop2 = symmops[i_symmop2 - 1]\n",
    "print(symmop2)\n",
    "\n",
    "print(\"Les coordonnées initial de l'atome sont\")\n",
    "pos_init = conv_struc.sites[i_atom2 -1].frac_coords\n",
    "print(pos_init,\"\\n\")\n",
    "\n",
    "print(\"Apres l'opération de symmétrie, ces coordonnées sont\")\n",
    "pos_final = symmop2.operate(pos_init)\n",
    "print(pos_final,\"\\n\")\n",
    "\n",
    "\n",
    "print(\"Pour cette deuxième opération de symmétrie, on observe une rotation hélicoïdale de rotation pi et de translation 1. La notation d'un telle symmétrie est un 2 avec comme indice 1 : 2_1.\")\n",
    "\n",
    "view2 = quick_view(conv_struc, \"packed\", conventional = True)\n",
    "display(view2)\n",
    "\n",
    "\n",
    "view2.script('draw SYMOP ' + str(i_symmop2 + 1) + ' {atomno = ' + str(i_atom2) + '}')\n",
    "\n",
    "\n"
   ]
  },
  {
   "cell_type": "code",
   "execution_count": 15,
   "id": "03f664bb",
   "metadata": {
    "scrolled": true
   },
   "outputs": [
    {
     "name": "stdout",
     "output_type": "stream",
     "text": [
      "----- Symmétrie 3 : Atome de Na d'index 11 ----- \n",
      "\n",
      "Rot:\n",
      "[[-1.  0.  0.]\n",
      " [ 0. -1.  0.]\n",
      " [ 0.  0.  1.]]\n",
      "tau\n",
      "[0. 0. 0.]\n",
      "Les coordonnées initial de l'atome sont\n",
      "[0.5 0.  0.5] \n",
      "\n",
      "Apres l'opération de symmétrie, ces coordonnées sont\n",
      "[-0.5  0.   0.5] \n",
      "\n",
      "Pour cette troisième cellule, on observe une symmétrie de réflexion par rapport au plan (001).\n"
     ]
    },
    {
     "data": {
      "application/vnd.jupyter.widget-view+json": {
       "model_id": "8ae98166f7624818b2ad6a10a8e551e9",
       "version_major": 2,
       "version_minor": 0
      },
      "text/plain": [
       "JsmolView(layout=Layout(align_self='stretch', height='400px'))"
      ]
     },
     "metadata": {},
     "output_type": "display_data"
    }
   ],
   "source": [
    "#Symmétrie 3\n",
    "\n",
    "\n",
    "i_atom3 = 11\n",
    "i_symmop3 = 5\n",
    "\n",
    "print(\"----- Symmétrie 3 : Atome de Na (index 11) ----- \\n\")\n",
    "\n",
    "symmop3 = symmops[i_symmop3 - 1]\n",
    "print(symmop3)\n",
    "\n",
    "print(\"Les coordonnées initial de l'atome sont\")\n",
    "pos_init = conv_struc.sites[i_atom3 -1].frac_coords\n",
    "print(pos_init,\"\\n\")\n",
    "\n",
    "print(\"Apres l'opération de symmétrie, ces coordonnées sont\")\n",
    "pos_final = symmop3.operate(pos_init)\n",
    "print(pos_final,\"\\n\")\n",
    "\n",
    "print(\"Pour cette troisième cellule, on observe une symmétrie de réflexion par rapport au plan (001).\")\n",
    "\n",
    "view3 = quick_view(conv_struc, \"packed\", conventional = True)\n",
    "display(view3)\n",
    "\n",
    "\n",
    "\n",
    "\n",
    "view3.script('draw SYMOP ' + str(i_symmop3 + 1) + ' {atomno = ' + str(i_atom3) + '}')"
   ]
  },
  {
   "cell_type": "code",
   "execution_count": null,
   "id": "15a406eb",
   "metadata": {},
   "outputs": [],
   "source": []
  }
 ],
 "metadata": {
  "kernelspec": {
   "display_name": "Python 3 (ipykernel)",
   "language": "python",
   "name": "python3"
  },
  "language_info": {
   "codemirror_mode": {
    "name": "ipython",
    "version": 3
   },
   "file_extension": ".py",
   "mimetype": "text/x-python",
   "name": "python",
   "nbconvert_exporter": "python",
   "pygments_lexer": "ipython3",
   "version": "3.9.13"
  }
 },
 "nbformat": 4,
 "nbformat_minor": 5
}
