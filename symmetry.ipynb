{
 "cells": [
  {
   "cell_type": "markdown",
   "id": "0017bcd3",
   "metadata": {},
   "source": [
    "# Tâche 5 : SYMMETRY\n",
    "Vandescure Lenny (30752100)"
   ]
  },
  {
   "cell_type": "code",
   "execution_count": 11,
   "id": "db883b1c",
   "metadata": {},
   "outputs": [],
   "source": [
    "import numpy as np\n",
    "from mp_api.client import MPRester\n",
    "from pymatgen.core.operations import SymmOp\n",
    "from pymatgen.symmetry.analyzer import SpacegroupAnalyzer\n",
    "from pymatgen.electronic_structure.plotter import BSPlotter\n",
    "from pymatgen.phonon.plotter import PhononBSPlotter\n",
    "from jupyter_jsmol.pymatgen import quick_view\n",
    "from lmapr1492 import plot_brillouin_zone, get_plot_bs, get_plot_dos, get_plot_bs_and_dos, get_branch_wavevectors\n",
    "from plotly.subplots import make_subplots\n",
    "import plotly.graph_objects as go\n",
    "from jupyter_jsmol import JsmolView\n",
    "from ipywidgets import Layout, widgets, interact\n",
    "from IPython.display import display"
   ]
  },
  {
   "cell_type": "code",
   "execution_count": 12,
   "id": "10cf25bc",
   "metadata": {},
   "outputs": [],
   "source": [
    "mp_key = \"0DGGEC1I1pS8KvdIsdLZpSI8D4eSE7ux\"\n",
    "mp_id = \"mp-648\""
   ]
  },
  {
   "cell_type": "code",
   "execution_count": 13,
   "id": "c3b08ad6",
   "metadata": {},
   "outputs": [
    {
     "data": {
      "application/vnd.jupyter.widget-view+json": {
       "model_id": "5e33bdc468474b1d9bb4cd436eb2d7dd",
       "version_major": 2,
       "version_minor": 0
      },
      "text/plain": [
       "Retrieving MaterialsDoc documents:   0%|          | 0/1 [00:00<?, ?it/s]"
      ]
     },
     "metadata": {},
     "output_type": "display_data"
    }
   ],
   "source": [
    "with MPRester(mp_key) as m:\n",
    "    prim_struc = m.get_structure_by_material_id(mp_id) \n",
    "\n",
    "conv_struc = SpacegroupAnalyzer(prim_struc).get_conventional_standard_structure() \n",
    "symmops = SpacegroupAnalyzer(conv_struc).get_space_group_operations() \n",
    "\n"
   ]
  },
  {
   "cell_type": "code",
   "execution_count": 14,
   "id": "2f634496",
   "metadata": {
    "scrolled": true
   },
   "outputs": [
    {
     "name": "stdout",
     "output_type": "stream",
     "text": [
      "visualisation du Na2S :\n"
     ]
    },
    {
     "data": {
      "application/vnd.jupyter.widget-view+json": {
       "model_id": "56e05a994775471b8503ac6da012d53b",
       "version_major": 2,
       "version_minor": 0
      },
      "text/plain": [
       "JsmolView(layout=Layout(align_self='stretch', height='400px'))"
      ]
     },
     "metadata": {},
     "output_type": "display_data"
    }
   ],
   "source": [
    "\n",
    "\n",
    "print(\"visualisation du Na2S :\")\n",
    "\n",
    "view = quick_view(conv_struc, \"packed\", conventional = True)\n",
    "display(view)\n",
    "view.script('rotate on')\n",
    "\n"
   ]
  },
  {
   "cell_type": "markdown",
   "id": "caccdbf3",
   "metadata": {},
   "source": [
    "## Première symétrie"
   ]
  },
  {
   "cell_type": "code",
   "execution_count": 15,
   "id": "19902097",
   "metadata": {
    "scrolled": false
   },
   "outputs": [
    {
     "name": "stdout",
     "output_type": "stream",
     "text": [
      "----- Symétrie 1 : Atome de Na (index 7) ----- \n",
      "\n",
      "Rot:\n",
      "[[ 0. -1.  0.]\n",
      " [ 1.  0.  0.]\n",
      " [ 0.  0.  1.]]\n",
      "tau\n",
      "[0. 0. 0.]\n",
      "\n",
      " avec Rot la matrice de rotation et tau le vecteur de translation \n",
      "\n",
      "Les coordonnées initiales de l'atome sont\n",
      "[0.75 0.75 0.25] \n",
      "\n",
      "Apres l'opération de symétrie, ces coordonnées sont\n",
      "[-0.75  0.75  0.25] \n",
      "\n"
     ]
    },
    {
     "data": {
      "application/vnd.jupyter.widget-view+json": {
       "model_id": "fd56822e96944d829cd703479421530c",
       "version_major": 2,
       "version_minor": 0
      },
      "text/plain": [
       "JsmolView(layout=Layout(align_self='stretch', height='400px'))"
      ]
     },
     "metadata": {},
     "output_type": "display_data"
    }
   ],
   "source": [
    "# Symetrie 1\n",
    "\n",
    "i_atom1 = 7\n",
    "i_symmop1 = 2\n",
    "\n",
    "print(\"----- Symétrie 1 : Atome de Na (index 7) ----- \\n\")\n",
    "\n",
    "symmop1 = symmops[i_symmop1]\n",
    "print(symmop1)\n",
    "\n",
    "print(\"\\n avec Rot la matrice de rotation et tau le vecteur de translation \\n\")\n",
    "\n",
    "print(\"Les coordonnées initiales de l'atome sont\")\n",
    "pos_init = conv_struc.sites[i_atom1 -1].frac_coords\n",
    "print(pos_init,\"\\n\")\n",
    "\n",
    "print(\"Après l'opération de symétrie, ces coordonnées sont\")\n",
    "pos_final = symmop1.operate(pos_init)\n",
    "print(pos_final,\"\\n\")\n",
    "\n",
    "\n",
    "view1 = quick_view(conv_struc, \"packed\", conventional = True)\n",
    "display(view1)\n",
    "\n",
    "\n",
    "view1.script('draw SYMOP ' + str(i_symmop1 + 1) + ' {atomno = ' + str(i_atom1) + '}')\n"
   ]
  },
  {
   "cell_type": "markdown",
   "id": "1ce48e81",
   "metadata": {},
   "source": [
    "La matrice de rotation effectue une rotation de 90 degrés autour de l'axe c. Elle représente donc une symétrie de rotation d'ordre 4 (C4).\n",
    "On peut observer que le déterminant de cette matrice est unitaire. Cette opération conserve donc la chiralité.\n",
    "\n",
    "Il s'agit d'une opération de symétrie ponctuelle."
   ]
  },
  {
   "cell_type": "markdown",
   "id": "6b72ebaa",
   "metadata": {},
   "source": [
    "## Seconde symétrie"
   ]
  },
  {
   "cell_type": "code",
   "execution_count": 16,
   "id": "8b90ce96",
   "metadata": {
    "scrolled": false
   },
   "outputs": [
    {
     "name": "stdout",
     "output_type": "stream",
     "text": [
      "----- Symétrie 2 : Atome de Na (index 3) ----- \n",
      "\n",
      "Rot:\n",
      "[[ 1.  0.  0.]\n",
      " [ 0.  0.  1.]\n",
      " [ 0. -1.  0.]]\n",
      "tau\n",
      "[0.5 0.  0.5]\n",
      "\n",
      " avec Rot la matrice de rotation et tau le vecteur de translation \n",
      "\n",
      "Les coordonnées initiales de l'atome sont\n",
      "[0.25 0.75 0.75] \n",
      "\n",
      "Apres l'opération de symétrie, ces coordonnées sont\n",
      "[ 0.75  0.75 -0.25] \n",
      "\n"
     ]
    },
    {
     "data": {
      "application/vnd.jupyter.widget-view+json": {
       "model_id": "2c7a78c1370c4dc3827792c8b39ae2c7",
       "version_major": 2,
       "version_minor": 0
      },
      "text/plain": [
       "JsmolView(layout=Layout(align_self='stretch', height='400px'))"
      ]
     },
     "metadata": {},
     "output_type": "display_data"
    }
   ],
   "source": [
    "# Symétrie 2\n",
    "\n",
    "i_atom2 = 3\n",
    "i_symmop2 = 130\n",
    "\n",
    "print(\"----- Symétrie 2 : Atome de Na (index 3) ----- \\n\")\n",
    "\n",
    "symmop2 = symmops[i_symmop2 - 0]\n",
    "print(symmop2)\n",
    "\n",
    "print(\"\\n avec Rot la matrice de rotation et tau le vecteur de translation \\n\")\n",
    "\n",
    "print(\"Les coordonnées initiales de l'atome sont\")\n",
    "pos_init = conv_struc.sites[i_atom2 -1].frac_coords\n",
    "print(pos_init,\"\\n\")\n",
    "\n",
    "print(\"Après l'opération de symétrie, ces coordonnées sont\")\n",
    "pos_final = symmop2.operate(pos_init)\n",
    "print(pos_final,\"\\n\")\n",
    "\n",
    "\n",
    "view2 = quick_view(conv_struc, \"packed\", conventional = True)\n",
    "display(view2)\n",
    "\n",
    "\n",
    "view2.script('draw SYMOP ' + str(i_symmop2 + 1) + ' {atomno = ' + str(i_atom2) + '}')\n",
    "\n",
    "\n"
   ]
  },
  {
   "cell_type": "markdown",
   "id": "bac67607",
   "metadata": {},
   "source": [
    "Pour cette deuxième cellule, on observe une opération hélicoïdale selon un axe parallèle à a et une rotation pi/2. De plus, le déterminant de la matrice de rotation est unitaire ce qui justifie la conservation de la chiralité pour cette opération.\n",
    "\n",
    "Il s'agit d'une opération de symétrie spatiale."
   ]
  },
  {
   "cell_type": "markdown",
   "id": "77283efb",
   "metadata": {},
   "source": [
    "## Troisième symétrie"
   ]
  },
  {
   "cell_type": "code",
   "execution_count": 17,
   "id": "03f664bb",
   "metadata": {
    "scrolled": true
   },
   "outputs": [
    {
     "name": "stdout",
     "output_type": "stream",
     "text": [
      "----- Symétrie 3 : Atome de Na (index 11) ----- \n",
      "\n",
      "Rot:\n",
      "[[ 1.  0.  0.]\n",
      " [ 0.  1.  0.]\n",
      " [ 0.  0. -1.]]\n",
      "tau\n",
      "[0. 0. 0.]\n",
      "\n",
      " avec Rot la matrice de rotation et tau le vecteur de translation \n",
      "\n",
      "Les coordonnées initiales de l'atome sont\n",
      "[0.5 0.  0.5] \n",
      "\n",
      "Apres l'opération de symétrie, ces coordonnées sont\n",
      "[ 0.5  0.  -0.5] \n",
      "\n"
     ]
    },
    {
     "data": {
      "application/vnd.jupyter.widget-view+json": {
       "model_id": "c6ef4d1b62fd498dba801e96ddf39215",
       "version_major": 2,
       "version_minor": 0
      },
      "text/plain": [
       "JsmolView(layout=Layout(align_self='stretch', height='400px'))"
      ]
     },
     "metadata": {},
     "output_type": "display_data"
    }
   ],
   "source": [
    "#Symétrie 3\n",
    "\n",
    "\n",
    "i_atom3 = 11\n",
    "i_symmop3 = 5\n",
    "\n",
    "print(\"----- Symétrie 3 : Atome de Na (index 11) ----- \\n\")\n",
    "\n",
    "symmop3 = symmops[i_symmop3 - 0]\n",
    "print(symmop3)\n",
    "\n",
    "print(\"\\n avec Rot la matrice de rotation et tau le vecteur de translation \\n\")\n",
    "\n",
    "print(\"Les coordonnées initiales de l'atome sont\")\n",
    "pos_init = conv_struc.sites[i_atom3 -1].frac_coords\n",
    "print(pos_init,\"\\n\")\n",
    "\n",
    "print(\"Après l'opération de symétrie, ces coordonnées sont\")\n",
    "pos_final = symmop3.operate(pos_init)\n",
    "print(pos_final,\"\\n\")\n",
    "\n",
    "\n",
    "view3 = quick_view(conv_struc, \"packed\", conventional = True)\n",
    "display(view3)\n",
    "\n",
    "\n",
    "\n",
    "\n",
    "view3.script('draw SYMOP ' + str(i_symmop3 + 1) + ' {atomno = ' + str(i_atom3) + '}')"
   ]
  },
  {
   "cell_type": "markdown",
   "id": "3a082785",
   "metadata": {},
   "source": [
    "Pour cette troisième cellule, on observe une symétrie de réflexion par rapport au plan (001). On remarque également que la déterminant de la matrice de rotation est unitaite au signe près ce qui inverse donc sa chiralité.\n",
    "\n",
    "Il s'agit d'une opération de symétrie ponctuelle."
   ]
  },
  {
   "cell_type": "code",
   "execution_count": null,
   "id": "1bc76de6",
   "metadata": {},
   "outputs": [],
   "source": []
  },
  {
   "cell_type": "code",
   "execution_count": null,
   "id": "d8131ede",
   "metadata": {},
   "outputs": [],
   "source": []
  },
  {
   "cell_type": "code",
   "execution_count": null,
   "id": "c2f2ed1b",
   "metadata": {},
   "outputs": [],
   "source": []
  }
 ],
 "metadata": {
  "kernelspec": {
   "display_name": "Python 3 (ipykernel)",
   "language": "python",
   "name": "python3"
  },
  "language_info": {
   "codemirror_mode": {
    "name": "ipython",
    "version": 3
   },
   "file_extension": ".py",
   "mimetype": "text/x-python",
   "name": "python",
   "nbconvert_exporter": "python",
   "pygments_lexer": "ipython3",
   "version": "3.9.13"
  }
 },
 "nbformat": 4,
 "nbformat_minor": 5
}
